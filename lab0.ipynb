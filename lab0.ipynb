{
 "cells": [
  {
   "cell_type": "markdown",
   "id": "74f76ade",
   "metadata": {},
   "source": [
    "Now let's install the grader that will install Qiskit 2.x and the necessary libraries we will need for the summer school."
   ]
  },
  {
   "cell_type": "markdown",
   "id": "0d9f8ae4",
   "metadata": {},
   "source": [
    "You should have Qiskit version `>=2.0.0` and Grader `>=0.22.9`. If you see a lower version, you need to restart your kernel and reinstall the grader."
   ]
  },
  {
   "cell_type": "markdown",
   "id": "bf861730",
   "metadata": {},
   "source": [
    "# Generate a three-qubit GHZ state using Qiskit patterns <a id=\"ghz\"></a>\n",
    "\n",
    "Now, we will follow this episode of [Coding with Qiskit](https://www.youtube.com/watch?v=93-zLTppFZw&list=PLOFEBzvs-VvrgHZt3exM_NNiNKtZlHvZi&index=4) to guide you through the process of generating a three-qubit GHZ state using [Qiskit patterns](https://quantum.cloud.ibm.com/docs/en/guides/intro-to-patterns). \n",
    "\n",
    "A Qiskit pattern is a general framework for breaking down domain-specific problems and contextualizing required capabilities in stages. This allows for the seamless composability of new capabilities developed by IBM Quantum researchers (and others) and enables a future in which quantum computing tasks are performed by powerful heterogenous (CPU/GPU/QPU) computing infrastructure. \n",
    "\n",
    "The four steps of a Qiskit pattern are as follows:\n",
    "\n",
    "1. **Map** problem to quantum circuits and operators\n",
    "2. **Optimize** for target hardware\n",
    "3. **Execute** on target hardware\n",
    "4. **Post-process** results\n",
    "\n",
    "\n",
    "## Step 1. Map <a id=\"map\"></a>\n",
    "\n",
    "The Greenberger–Horne–Zeilinger (GHZ) state is the extension to three (or more) qubits to the maximally entangled state characteristic of the Bell state depicted above. That means that the GHZ state is:\n",
    "\n",
    "$$\n",
    "|GHZ\\rangle = \\frac{|000\\rangle+|111\\rangle}{\\sqrt{2}}.\n",
    "$$\n",
    "\n",
    "One of the interesting features of the GHZ state is that there are different and equivalent ways to build it using a quantum circuit. In Exercise 1 you will do it in one of the most common ways."
   ]
  },
  {
   "cell_type": "code",
   "execution_count": null,
   "id": "1c389cbe",
   "metadata": {},
   "outputs": [],
   "source": [
    "# Create a new circuit with three qubits\n",
    "qc = QuantumCircuit(3)\n",
    "\n",
    "### WRITE YOUR CODE BELOW HERE ###\n",
    "# Add a H gate to qubit 0\n",
    "\n",
    "# Add a CNOT gate to qubits 0 and 1\n",
    "\n",
    "# Add a CNOT gate to qubits 1 and 2\n",
    "\n",
    "### YOUR CODE FINISHES HERE    ###\n",
    "\n",
    "# Return a drawing of the circuit using MatPlotLib (\"mpl\").\n",
    "qc.draw(\"mpl\")"
   ]
  },
  {
   "cell_type": "code",
   "execution_count": null,
   "id": "a29c6fe7",
   "metadata": {},
   "outputs": [],
   "source": [
    "# Submit your answer using following code\n",
    "grade_lab0_ex1(qc)"
   ]
  },
  {
   "cell_type": "markdown",
   "id": "66a3ed14",
   "metadata": {},
   "source": [
    "## Step 2. Optimize <a id=\"optimize\"></a>\n",
    "\n",
    "Well done designing the circuit!\n",
    "\n",
    "In this case, the circuit is very shallow, and it is not possible to further simplify it or reduce the required number of gates that are needed to build the GHZ state. However, there are other scenarios in which optimizing the circuit is key.\n",
    "\n",
    "There may be situations where you face restrictions in how your quantum circuit can be designed. For example, when running circuits on quantum hardware, you might find connectivity constraints between qubits. This means that some qubits may not be physically connected, so you will need to think of a smart way to implement gates that produce the desired quantum state. Luckily for us, this is where the Qiskit pass manager comes to the rescue! You can provide the desired circuit along with the device's constraints to the pass manager and it will transpile the circuit and handle the optimization for you.\n",
    "\n",
    "Let us consider, for the GHZ state, a situation in which we are limited to interactions only between qubits 0 and 1 and qubits 0 and 2, but not between qubits 1 and 2. We can introduce these constraints to the paass manager using the `generate_preset_pass_manager` function."
   ]
  },
  {
   "cell_type": "markdown",
   "id": "38782ae6",
   "metadata": {},
   "source": [
    "<a id=\"Exercise_2\"></a>\n",
    "<div class=\"alert alert-block alert-success\">\n",
    "    \n",
    "<b>Exercise 2: Transpile a GHZ state</b> \n",
    "\n",
    "In this second exercise you are asked to transpile the previous GHZ state with the mentioned connectivity constraints:\n",
    "\n",
    "- Qubit 0 <---> Qubit 1\n",
    "- Qubit 0 <---> Qubit 2\n",
    "- ~~Qubit 1 <---> Qubit 2~~\n",
    "\n",
    "</div>"
   ]
  },
  {
   "cell_type": "code",
   "execution_count": null,
   "id": "222b26f8",
   "metadata": {},
   "outputs": [],
   "source": [
    "### WRITE YOUR CODE BELOW HERE ###\n",
    "# Write the coupling map of connections between qubits 0 and 1 and 0 and 2 as a list of pairs: [[0,1],...]\n",
    "coupling_map =\n",
    "\n",
    "# Transpile the quantum circuit `qc` using the `generate_preset_pass_manager` function and the `coupling_map` list\n",
    "pm = generate_preset_pass_manager()\n",
    "### YOUR CODE FINISHES HERE    ###\n",
    "qc_transpiled = pm.run(qc)\n",
    "\n",
    "qc_transpiled.draw(\"mpl\")"
   ]
  },
  {
   "cell_type": "code",
   "execution_count": null,
   "id": "5d860929",
   "metadata": {},
   "outputs": [],
   "source": [
    "# Submit your answer using following code\n",
    "grade_lab0_ex2(qc_transpiled)"
   ]
  },
  {
   "cell_type": "markdown",
   "id": "e2aa24a5",
   "metadata": {},
   "source": [
    "## Step 3. Execute <a id=\"execute\"></a>\n",
    "\n",
    "The next step is exciting - we are going to run the quantum circuit using Qiskit Runtime! \n",
    "\n",
    "We will do that using the two [Qiskit primitives](https://quantum.cloud.ibm.com/docs/guides/primitives):\n",
    "1. **Sampler** samples the output register from the execution of one or more quantum circuits. Its output is counts on per-shot measurements. \n",
    "2. **Estimator** computes the expectation value of one or more observables with respect to the states generated by the quantum circuit. Its output consist of the expectation values along with their standard errors.\n",
    "\n",
    "First, we execute our circuit using the Sampler, then save the results as the variable `results_sampler`. "
   ]
  },
  {
   "cell_type": "code",
   "execution_count": null,
   "id": "345c5084",
   "metadata": {},
   "outputs": [],
   "source": [
    "# Add measurement operations\n",
    "qc.measure_all()\n",
    "\n",
    "# Set up the backend\n",
    "backend = AerSimulator()\n",
    "\n",
    "# Set up the sampler\n",
    "sampler = Sampler(mode=backend)\n",
    "\n",
    "# Submit the circuit to Sampler\n",
    "pm = generate_preset_pass_manager(backend=backend, optimization_level=1)\n",
    "job = sampler.run(pm.run([qc]))\n",
    "\n",
    "# Get the results\n",
    "results_sampler = job.result()"
   ]
  },
  {
   "cell_type": "markdown",
   "id": "1a8e7991",
   "metadata": {},
   "source": [
    "Now, we run our circuit using the Estimator primitive, then save the results as the variable `results_estimator`."
   ]
  },
  {
   "cell_type": "code",
   "execution_count": null,
   "id": "6f2354c1",
   "metadata": {},
   "outputs": [],
   "source": [
    "# Set up the Estimator\n",
    "estimator = Estimator(mode=backend)\n",
    "\n",
    "# Define some observables\n",
    "ZZZ = SparsePauliOp(\"ZZZ\")\n",
    "ZZX = SparsePauliOp(\"ZZX\")\n",
    "ZII = SparsePauliOp(\"ZII\")\n",
    "XXI = SparsePauliOp(\"XXI\")\n",
    "ZZI = SparsePauliOp(\"ZZI\")\n",
    "III = SparsePauliOp(\"III\")\n",
    "observables = [ZZZ, ZZX, ZII, XXI, ZZI, III]\n",
    "\n",
    "# Submit the circuit to Estimator\n",
    "pub = (qc, observables)\n",
    "job = estimator.run(pubs=[pub])\n",
    "\n",
    "# Get the results\n",
    "results_estimator = job.result()"
   ]
  },
  {
   "cell_type": "markdown",
   "id": "08df17b9",
   "metadata": {},
   "source": [
    "Next is the final step of Qiskit patterns, where we will visualize our results."
   ]
  },
  {
   "cell_type": "markdown",
   "id": "03ccb1ce",
   "metadata": {},
   "source": [
    "## Step 4. Post-process <a id=\"post-process\"></a>\n",
    "\n",
    "Finally, the last step of Qiskit patterns is to post-process the information we have gathered from the execution of the quantum circuit.\n",
    "\n",
    "First we visualize the results from the Sampler. We can visualize the counts with a histogram plot and quickly see how the two possible quantum states are measured with a probability of 50%."
   ]
  },
  {
   "cell_type": "code",
   "execution_count": null,
   "id": "2cb9ba4a",
   "metadata": {},
   "outputs": [],
   "source": [
    "counts_list = results_sampler[0].data.meas.get_counts()\n",
    "print(f\"  Outcomes : {counts_list}\")\n",
    "display(plot_histogram(counts_list, title=\"GHZ state\"))"
   ]
  },
  {
   "cell_type": "markdown",
   "id": "86748b30",
   "metadata": {},
   "source": [
    "Now we can visualize the results of the Estimator."
   ]
  },
  {
   "cell_type": "code",
   "execution_count": null,
   "id": "983608f7",
   "metadata": {},
   "outputs": [],
   "source": [
    "exp_values = results_estimator[0].data.evs\n",
    "observables_list = [\"ZZZ\", \"ZZX\", \"ZII\", \"XXI\", \"ZZI\", \"III\"]\n",
    "print(f\"Expectation values: {list(zip(observables_list, exp_values))}\")\n",
    "\n",
    "# Set up our plot\n",
    "container = plt.bar(observables_list, exp_values, width=0.8)\n",
    "# Label each axis\n",
    "plt.xlabel(\"Observables\")\n",
    "plt.ylabel(\"Values\")\n",
    "plt.show()"
   ]
  },
  {
   "cell_type": "markdown",
   "id": "e5b49810",
   "metadata": {},
   "source": [
    "We see that the observables $ZZI$ and $III$ have an expectation value of 1, since $ZZI$ introduces two minus signs that cancel out, and $III$ acts as the identity, leaving the GHZ state unchanged. The rest of the observables have an expectation value of 0, since their $Z$ operators introduce an odd number of minus signs, or the $X$ operators flip a number of qubits that make the overlapping states orthogonal."
   ]
  },
  {
   "cell_type": "markdown",
   "id": "c5e04fb1",
   "metadata": {},
   "source": [
    "## Bonus challenge: Run GHZ on hardware <a id=\"bonus\"></a>\n",
    "\n",
    "To execute a quantum circuit on a quantum computer using Qiskit, we first need to define the quantum backend. We could manually select a specific quantum computer we want to use out of the ones available from IBM Quantum. However, sometimes it is more convenient to select the machine that is least busy at the moment to ensure a fast execution. That's where the method `least_busy` is helpful."
   ]
  },
  {
   "cell_type": "code",
   "execution_count": null,
   "id": "ef101f81",
   "metadata": {},
   "outputs": [],
   "source": [
    "# Define the service. This allows you to access IBM QPUs.\n",
    "service = QiskitRuntimeService(name=\"qgss-2025\")\n",
    "\n",
    "# Get a backend\n",
    "backend = service.least_busy(operational=True, simulator=False)\n",
    "print(f\"We are using the {backend.name} quantum computer\")"
   ]
  },
  {
   "cell_type": "markdown",
   "id": "b94e6ec7",
   "metadata": {},
   "source": [
    "The next call illustrates how easy it is to execute quantum circuits on hardware with `QiskitRuntimeService`. Once we have selected the backend in the cell above, we can simply copy and paste the same lines of code that we wrote for the Sampler simulator, including post-processing and visualization."
   ]
  },
  {
   "cell_type": "code",
   "execution_count": null,
   "id": "c50b3aa1",
   "metadata": {},
   "outputs": [],
   "source": [
    "### WRITE YOUR CODE BELOW HERE ###\n",
    "# Step 1. Map\n",
    "# You should have created a GHZ circuit above and assigned with variable `qc`\n",
    "\n",
    "# Step 2. Optimize\n",
    "pm = \n",
    "qc_transpiled = "
   ]
  },
  {
   "cell_type": "markdown",
   "id": "b90f52a1",
   "metadata": {},
   "source": [
    "<div class=\"alert alert-block alert-warning\">\n",
    "<b>Warning: Queue time and 10 minute limit</b>\n",
    "\n",
    "This will roughly take 10s of calculation time on the real hardware, however, running this on the real hardware can lead to long queue times and will take a while, \n",
    "and will block the jupyter notebook in the meantime. \n",
    "\n",
    "Please note that the open plan only includes 10 minutes time on the real hardware, and since we will need these minutes in the later labs, please make sure to save most of your time for these labs. \n",
    "\n",
    "</div>"
   ]
  },
  {
   "cell_type": "code",
   "execution_count": null,
   "id": "2ba1eb48",
   "metadata": {},
   "outputs": [],
   "source": [
    "# Step 3. Execute\n",
    "sampler = \n",
    "job = "
   ]
  },
  {
   "cell_type": "code",
   "execution_count": null,
   "id": "fb229e5e",
   "metadata": {},
   "outputs": [],
   "source": [
    "# Step 4. Post-process\n",
    "results = \n",
    "counts_list = \n",
    "### YOUR CODE FINISHES HERE    ###\n",
    "\n",
    "print(f\"Outcomes : {counts_list}\")\n",
    "plot_histogram(counts_list,title='GHZ state')"
   ]
  },
  {
   "cell_type": "markdown",
   "id": "d830731e",
   "metadata": {},
   "source": [
    "Awesome! \n",
    "\n",
    "You have managed to run a circuit on a real quantum computer, and the results are very good! The most repeated states are $|000\\rangle$ and $|111\\rangle$, and they accumulate a probability just below 50%. However, in this case we observe that, due to noise from the quantum computer, some quantum states are measured, even if the theoretical probability of measuring is 0. This is indeed expected, and we will see in the next labs how we can try to correct or mitigate the errors that are introduced by the noisy nature of quantum computers."
   ]
  },
  {
   "cell_type": "markdown",
   "id": "bafe6e0d",
   "metadata": {},
   "source": [
    "# Additional information\n",
    "\n",
    "**Created by:** Jorge Martínez de Lejarza\n",
    "\n",
    "**Advised by:** Marcel Pfaffhauser, Junye Huang\n",
    "\n",
    "**Version:** 1.0.0"
   ]
  }
 ],
 "metadata": {
  "kernelspec": {
   "display_name": ".venv",
   "language": "python",
   "name": "python3"
  },
  "language_info": {
   "codemirror_mode": {
    "name": "ipython",
    "version": 3
   },
   "file_extension": ".py",
   "mimetype": "text/x-python",
   "name": "python",
   "nbconvert_exporter": "python",
   "pygments_lexer": "ipython3",
   "version": "3.13.5"
  }
 },
 "nbformat": 4,
 "nbformat_minor": 5
}
