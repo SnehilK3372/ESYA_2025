{
 "cells": [
  {
   "cell_type": "markdown",
   "metadata": {},
   "source": [
    "# QuAck"
   ]
  },
  {
   "cell_type": "code",
   "execution_count": 22,
   "metadata": {},
   "outputs": [
    {
     "name": "stdout",
     "output_type": "stream",
     "text": [
      "Defaulting to user installation because normal site-packages is not writeable\n",
      "Requirement already satisfied: pandas in /home/iiitd/.local/lib/python3.10/site-packages (2.0.3)\n",
      "Requirement already satisfied: tzdata>=2022.1 in /home/iiitd/.local/lib/python3.10/site-packages (from pandas) (2023.3)\n",
      "Requirement already satisfied: python-dateutil>=2.8.2 in /home/iiitd/.local/lib/python3.10/site-packages (from pandas) (2.8.2)\n",
      "Requirement already satisfied: numpy>=1.21.0 in /home/iiitd/.local/lib/python3.10/site-packages (from pandas) (1.25.2)\n",
      "Requirement already satisfied: pytz>=2020.1 in /usr/lib/python3/dist-packages (from pandas) (2022.1)\n",
      "Requirement already satisfied: six>=1.5 in /usr/lib/python3/dist-packages (from python-dateutil>=2.8.2->pandas) (1.16.0)\n",
      "Defaulting to user installation because normal site-packages is not writeable\n",
      "Requirement already satisfied: qiskit in /home/iiitd/.local/lib/python3.10/site-packages (0.44.1)\n",
      "Requirement already satisfied: qiskit-terra==0.25.1 in /home/iiitd/.local/lib/python3.10/site-packages (from qiskit) (0.25.1)\n",
      "Requirement already satisfied: symengine<0.10,>=0.9 in /home/iiitd/.local/lib/python3.10/site-packages (from qiskit-terra==0.25.1->qiskit) (0.9.2)\n",
      "Requirement already satisfied: sympy>=1.3 in /home/iiitd/.local/lib/python3.10/site-packages (from qiskit-terra==0.25.1->qiskit) (1.12)\n",
      "Requirement already satisfied: typing-extensions in /home/iiitd/.local/lib/python3.10/site-packages (from qiskit-terra==0.25.1->qiskit) (4.7.1)\n",
      "Requirement already satisfied: ply>=3.10 in /home/iiitd/.local/lib/python3.10/site-packages (from qiskit-terra==0.25.1->qiskit) (3.11)\n",
      "Requirement already satisfied: numpy>=1.17 in /home/iiitd/.local/lib/python3.10/site-packages (from qiskit-terra==0.25.1->qiskit) (1.25.2)\n",
      "Requirement already satisfied: rustworkx>=0.13.0 in /home/iiitd/.local/lib/python3.10/site-packages (from qiskit-terra==0.25.1->qiskit) (0.13.1)\n",
      "Requirement already satisfied: scipy>=1.5 in /home/iiitd/.local/lib/python3.10/site-packages (from qiskit-terra==0.25.1->qiskit) (1.11.2)\n",
      "Requirement already satisfied: stevedore>=3.0.0 in /home/iiitd/.local/lib/python3.10/site-packages (from qiskit-terra==0.25.1->qiskit) (5.1.0)\n",
      "Requirement already satisfied: psutil>=5 in /home/iiitd/.local/lib/python3.10/site-packages (from qiskit-terra==0.25.1->qiskit) (5.9.5)\n",
      "Requirement already satisfied: dill>=0.3 in /home/iiitd/.local/lib/python3.10/site-packages (from qiskit-terra==0.25.1->qiskit) (0.3.7)\n",
      "Requirement already satisfied: python-dateutil>=2.8.0 in /home/iiitd/.local/lib/python3.10/site-packages (from qiskit-terra==0.25.1->qiskit) (2.8.2)\n",
      "Requirement already satisfied: six>=1.5 in /usr/lib/python3/dist-packages (from python-dateutil>=2.8.0->qiskit-terra==0.25.1->qiskit) (1.16.0)\n",
      "Requirement already satisfied: pbr!=2.1.0,>=2.0.0 in /home/iiitd/.local/lib/python3.10/site-packages (from stevedore>=3.0.0->qiskit-terra==0.25.1->qiskit) (5.11.1)\n",
      "Requirement already satisfied: mpmath>=0.19 in /home/iiitd/.local/lib/python3.10/site-packages (from sympy>=1.3->qiskit-terra==0.25.1->qiskit) (1.3.0)\n",
      "Defaulting to user installation because normal site-packages is not writeable\n",
      "Requirement already satisfied: numpy in /home/iiitd/.local/lib/python3.10/site-packages (1.25.2)\n",
      "Defaulting to user installation because normal site-packages is not writeable\n",
      "Requirement already satisfied: nbimporter in /home/iiitd/.local/lib/python3.10/site-packages (0.3.4)\n",
      "Defaulting to user installation because normal site-packages is not writeable\n",
      "Collecting nbformat\n",
      "  Downloading nbformat-5.9.2-py3-none-any.whl (77 kB)\n",
      "\u001b[2K     \u001b[90m━━━━━━━━━━━━━━━━━━━━━━━━━━━━━━━━━━━━━━━\u001b[0m \u001b[32m77.6/77.6 KB\u001b[0m \u001b[31m380.3 kB/s\u001b[0m eta \u001b[36m0:00:00\u001b[0ma \u001b[36m0:00:01\u001b[0m\n",
      "\u001b[?25hRequirement already satisfied: jupyter-core in /home/iiitd/.local/lib/python3.10/site-packages (from nbformat) (5.3.1)\n",
      "Requirement already satisfied: traitlets>=5.1 in /home/iiitd/.local/lib/python3.10/site-packages (from nbformat) (5.9.0)\n",
      "Collecting jsonschema>=2.6\n",
      "  Downloading jsonschema-4.19.0-py3-none-any.whl (83 kB)\n",
      "\u001b[2K     \u001b[90m━━━━━━━━━━━━━━━━━━━━━━━━━━━━━━━━━━━━━━━\u001b[0m \u001b[32m83.4/83.4 KB\u001b[0m \u001b[31m950.3 kB/s\u001b[0m eta \u001b[36m0:00:00\u001b[0m \u001b[36m0:00:01\u001b[0m\n",
      "\u001b[?25hCollecting fastjsonschema\n",
      "  Downloading fastjsonschema-2.18.0-py3-none-any.whl (23 kB)\n",
      "Collecting attrs>=22.2.0\n",
      "  Downloading attrs-23.1.0-py3-none-any.whl (61 kB)\n",
      "\u001b[2K     \u001b[90m━━━━━━━━━━━━━━━━━━━━━━━━━━━━━━━━━━━━━━━\u001b[0m \u001b[32m61.2/61.2 KB\u001b[0m \u001b[31m953.0 kB/s\u001b[0m eta \u001b[36m0:00:00\u001b[0m \u001b[36m0:00:01\u001b[0m\n",
      "\u001b[?25hCollecting jsonschema-specifications>=2023.03.6\n",
      "  Downloading jsonschema_specifications-2023.7.1-py3-none-any.whl (17 kB)\n",
      "Collecting referencing>=0.28.4\n",
      "  Downloading referencing-0.30.2-py3-none-any.whl (25 kB)\n",
      "Collecting rpds-py>=0.7.1\n",
      "  Downloading rpds_py-0.9.2-cp310-cp310-manylinux_2_17_x86_64.manylinux2014_x86_64.whl (1.2 MB)\n",
      "\u001b[2K     \u001b[90m━━━━━━━━━━━━━━━━━━━━━━━━━━━━━━━━━━━━━━━━\u001b[0m \u001b[32m1.2/1.2 MB\u001b[0m \u001b[31m2.3 MB/s\u001b[0m eta \u001b[36m0:00:00\u001b[0ma \u001b[36m0:00:01\u001b[0m\n",
      "\u001b[?25hRequirement already satisfied: platformdirs>=2.5 in /home/iiitd/.local/lib/python3.10/site-packages (from jupyter-core->nbformat) (3.10.0)\n",
      "Installing collected packages: fastjsonschema, rpds-py, attrs, referencing, jsonschema-specifications, jsonschema, nbformat\n",
      "Successfully installed attrs-23.1.0 fastjsonschema-2.18.0 jsonschema-4.19.0 jsonschema-specifications-2023.7.1 nbformat-5.9.2 referencing-0.30.2 rpds-py-0.9.2\n"
     ]
    }
   ],
   "source": [
    "# Installing libraries\n",
    "!pip3 install pandas\n",
    "!pip3 install qiskit\n",
    "!pip3 install numpy\n",
    "!pip3 install nbimporter\n",
    "!pip3 install nbformat"
   ]
  },
  {
   "cell_type": "code",
   "execution_count": 9,
   "metadata": {},
   "outputs": [],
   "source": [
    "# Importing Libraries\n",
    "import numpy as np\n",
    "import pandas as pd\n",
    "from qiskit import QuantumCircuit, QuantumRegister, ClassicalRegister\n",
    "import matplotlib.pyplot as mpl\n",
    "from qiskit.primitives import *\n",
    "from qiskit.visualization import plot_histogram"
   ]
  },
  {
   "cell_type": "markdown",
   "metadata": {},
   "source": [
    "In quantum computing, ∣0⟩ and ∣1⟩ represent the two possible states of a qubit. \n",
    "∣0⟩ corresponds to the \"0\" state, and ∣1⟩ corresponds to the \"1\" state.\n",
    "\n",
    "$$|0\\rangle = \\begin{pmatrix} 1 \\\\ 0 \\end{pmatrix}\\\\\n",
    "|1\\rangle = \\begin{pmatrix} 0 \\\\ 1 \\end{pmatrix}\n",
    "\n",
    "$$\n",
    "\n",
    "The ket vector is represented as a list of list of complex numbers. Where as the bra vector, the latter is a row vector with complex number. For a vector, say a, the dual or inverse of bra a vector would be the ket a. This is done by transposing and conjugating the enteries.\n",
    "$$\n",
    "\\quad |\\psi\\rangle = \\begin{pmatrix}\n",
    "    a \\\\\n",
    "    b \\\\\n",
    "\\end{pmatrix}\n",
    "\\\\\\\n",
    "\\quad \\langle\\psi|= \\begin{pmatrix} a* & b* \\end{pmatrix}\n",
    "$$\n",
    "**Question 1**\\\n",
    "Write the function ket_to_bra() which takes the ket vector and returns back the bra vector."
   ]
  },
  {
   "cell_type": "code",
   "execution_count": 10,
   "metadata": {},
   "outputs": [],
   "source": [
    "def ket_to_bra(ket):\n",
    "    # Write your solution here\n",
    "    pass"
   ]
  },
  {
   "cell_type": "markdown",
   "metadata": {},
   "source": [
    "\n",
    "In Quantum Computing, a Unitary Matrix U is defined as\n",
    "$$\n",
    "U^\\dagger U = UU^\\dagger = I\n",
    "$$\n",
    "Where the dagger symbol\n",
    "$$ \\dagger $$\n",
    "implies the complex conjugate of the operator/matrix. Matrices are often referred as Operators in Quantum Computing since we use them to operator on the states of Qubits\n",
    "\n",
    "**Question 2** \\\n",
    "Write the is_unitary function which checks if a given matrix is Unitary or not"
   ]
  },
  {
   "cell_type": "code",
   "execution_count": 11,
   "metadata": {},
   "outputs": [],
   "source": [
    "def  is_unitary(matrix):\n",
    "    #write your code here\n",
    "    pass"
   ]
  },
  {
   "cell_type": "markdown",
   "metadata": {},
   "source": [
    "$$\n",
    "\\text{X Gate (Pauli-X):} \\\\ \\quad X = \\begin{pmatrix} 0 & 1 \\\\ 1 & 0 \\end{pmatrix} \\\\ \\\\\n",
    "\\text{Hadamard Gate (H):} \\\\ \\quad H = \\frac{1}{\\sqrt{2}} \\begin{pmatrix} 1 & 1 \\\\ 1 & -1 \\end{pmatrix} \\\\ \\\\\n",
    "\\text{Z Gate (Pauli-Z):} \\\\ \\quad Z = \\begin{pmatrix} 1 & 0 \\\\ 0 & -1 \\end{pmatrix} \\\\ \\\\\n",
    "$$\n",
    "Some example of Common unitary operations are given above. The X gate analogous to the not gate, It changes the 0 state to 1 and the 1 state to 0. The H gate puts the 0 and 1 state into super position(try to find out what it does) The Z gate is called the phase flip gate. \n",
    "$$Z|0\\rangle = |0\\rangle \\quad \\text{and} \\quad Z|1\\rangle = -|1\\rangle\n",
    "$$\n",
    "\n",
    "**Question 3**\\\n",
    "Write the Z_gate() function where you have to create the Z gate using the H and the X gate(no directly using the Z gate won't pass the test)"
   ]
  },
  {
   "cell_type": "code",
   "execution_count": 12,
   "metadata": {},
   "outputs": [],
   "source": [
    "def Z_gate():\n",
    "    qc = QuantumCircuit(1)\n",
    "    #write your code here\n",
    "    return qc"
   ]
  },
  {
   "cell_type": "markdown",
   "metadata": {},
   "source": [
    "Measurement in quantum computing is probabilistic. When we measure, we can't see whether a qubit is in a superposition, rather we observe the qubit either in state 0 ( denoted by |0⟩ )  or state 1 ( denoted by |1⟩ ) . \n",
    "\n",
    "α  and β  in the expression α|0⟩ +  β|1⟩  are called the amplitudes of the corresponding states and contain the information about the probability of each of those outcomes:\n",
    "\n",
    "This notation | . |²,  is called the \"mod squared\", and is simply multiplication of a number by its complex conjugate ( Example- the complex conjugate of z = 3 + 2i would be z* = 3 - 2i) , i.e., | α |² = α.α* . Where | α |²  is the probability that we will observe the state 0 in the measurement made. Since there are only two possible outcomes for the measurement, the sum of these probabilities must be equal to 1.\n",
    "\n",
    "when these probabilities are multiplied with their values and summed, we get the expectation. The expectation gives us a lot of useful information about our system\n",
    "\n",
    "**Question 4**\\\n",
    "Write a Python function called expectation that takes a qubit state as input and returns the measurement outcome probabilities for observing state 0 and state 1.\n"
   ]
  },
  {
   "cell_type": "code",
   "execution_count": 13,
   "metadata": {},
   "outputs": [],
   "source": [
    "def expectation(arr):\n",
    "    #write your code here\n",
    "    pass"
   ]
  },
  {
   "cell_type": "markdown",
   "metadata": {},
   "source": [
    "In quantum computing, the tensor product is used to combine two quantum states ∣ψ⟩ and ∣ϕ⟩ to form a composite state. The resulting composite state ∣ψ⟩⊗∣ϕ⟩ represents the joint system of the two individual states.\n",
    "$$|\\psi\\rangle = \\begin{pmatrix} \\alpha \\\\ \\beta \\end{pmatrix} \\quad \\text{and} \\quad |\\phi\\rangle = \\begin{pmatrix} \\gamma \\\\ \\delta \\end{pmatrix} \\\\\n",
    "|\\psi\\rangle \\otimes |\\phi\\rangle = \\begin{pmatrix} \\alpha \\\\ \\beta \\end{pmatrix} \\otimes \\begin{pmatrix} \\gamma \\\\ \\delta \\end{pmatrix}\\\\\n",
    "|\\psi\\rangle \\otimes |\\phi\\rangle = \\begin{pmatrix} \\alpha \\cdot \\begin{pmatrix} \\gamma \\\\ \\delta \\end{pmatrix} \\\\ \\beta \\cdot \\begin{pmatrix} \\gamma \\\\ \\delta \\end{pmatrix} \\end{pmatrix}\\\\\n",
    "|\\psi\\rangle \\otimes |\\phi\\rangle = \\begin{pmatrix} \\alpha\\gamma \\\\ \\alpha\\delta \\\\ \\beta\\gamma \\\\ \\beta\\delta \\end{pmatrix}\n",
    "$$\n",
    "\n",
    "**Question 5**\\\n",
    "Write the function tensor_product() which takes in 2 vectors and gives out the tensor product of the two. The column vectors will be represented in row format for convenience."
   ]
  },
  {
   "cell_type": "code",
   "execution_count": 14,
   "metadata": {},
   "outputs": [],
   "source": [
    "def tensor_product(arr1,arr2) :\n",
    "    #write your code here\n",
    "    pass"
   ]
  },
  {
   "cell_type": "markdown",
   "metadata": {},
   "source": [
    "The CNOT or the controlled NOT gate, a controlled bit-flip operator. It acts on the tensor product of two states and is of the form\n",
    "$$\\quad \\text{CNOT} = \\begin{pmatrix} 1 & 0 & 0 & 0 \\\\ 0 & 1 & 0 & 0 \\\\ 0 & 0 & 0 & 1 \\\\ 0 & 0 & 1 & 0 \\end{pmatrix}\n",
    "$$\n",
    "Try using it once yourself on an arbitrary state and find out what happens(or not, your wish :/)\\\n",
    "\n",
    "**Question 6**\\\n",
    "Write the function CNOT_Cirq which returns a Quantum Circuit with the implementation of the CNOT gate from the first qubit onto the second. Try creating the circuit such that upon measurement the second qubit is in the 0 state half of the time and 1 state the other half of the time.\n",
    "[Hint : its an entangled state]"
   ]
  },
  {
   "cell_type": "code",
   "execution_count": 15,
   "metadata": {},
   "outputs": [],
   "source": [
    "def CNOT_Cirq():\n",
    "    qc = QuantumCircuit(2,1)\n",
    "    #write your code here\n",
    "    return qc\n",
    "\n",
    "\n",
    "# CNOT_Cirq().draw(output='mpl')"
   ]
  },
  {
   "cell_type": "markdown",
   "metadata": {},
   "source": [
    "**Fast Fourier and Quantum Fourier Transform [Optional Reading]**\n",
    "\n",
    "Often times doing mathematical calculation can be resource intensive or require a lot of time. Looking at problems from a different perspective can often help. One such example is DFT [Discrete Fourier Transform] which is at the heart of Signal processing and other applications\n",
    "\n",
    "Algorithimically it is implemented as FFT or Fast Fourier Transform. And the Quantum Version of this Algorithm is know as Quantum Fourier Transform. While it is out of this event's scope to teach you QFT thoroughly, we can most certainly get you a rough idea of they work"
   ]
  },
  {
   "cell_type": "markdown",
   "metadata": {},
   "source": [
    "While solving multiple equations of large order might be difficult, it is fairly easy to put values in them and plot a rough graph to understand a general trend\n",
    "\n",
    "FFT Q1 :\n",
    "For a polynomial $$P(x) = ax^2 + bx + c$$ and $$Q(x) = dx + e$$ assuming that we can solve them for points efficiently with 3 and 2 points respectively[this means you dont have to worry about actually solving the equations]Maybe we can reduce the amount of time by making a smart choice of points, such that evaluating a polynomial at one point can give us information about evaluation at another point. \n",
    "\n",
    "Take a polynomial $$A(x) = x^2$$ for example[an even function] <br>\n",
    "$$A(2) = 4 \\\\\n",
    "A(-2) = 4 \\\\$$\n",
    "\n",
    "Now take $$B(x) = x$$ [an odd function] <br>\n",
    "$$B(2) = 2 \\\\\n",
    "B(-2) = -2 \\\\$$\n",
    "**Question 7**\\\n",
    "Now, the function FFT_pointgen should return a value such that, using that single value, we can get information about enough points to find the general trend C(x) = P(x).Q(x)"
   ]
  },
  {
   "cell_type": "code",
   "execution_count": 16,
   "metadata": {},
   "outputs": [],
   "source": [
    "def FFT_pointgen(order_px,order_qx) : \n",
    "    #write your code here\n",
    "    pass"
   ]
  },
  {
   "cell_type": "markdown",
   "metadata": {},
   "source": [
    "As much as the creator of this lab wants to torture you guys, understanding and writing QFT in this time frame [atleast for everyone previously unaware of it] is out of this labs scope. So instead, we'll just give you the references and the code for it so that you can use it in the future.\n",
    "\n",
    "the QFT puts out qubits in a state of superposition such that for each qubit that follows, there is an extra bit from the decimal part of the eigen value [essentially we are getting more information]\n",
    "\n",
    "$$\\text{QFT}_N = \\frac{1}{\\sqrt{N}} \\sum_{j=0}^{N-1} \\sum_{k=0}^{N-1} e^{2\\pi i \\frac{jk}{N}} \\left| k \\right\\rangle \\left\\langle j \\right|\n",
    "$$\n",
    "\n",
    "Which upon applying the inverse QFT [qft_dagger] changes back from the Fourier Basis to the real Basis.\n",
    "\n",
    "$$\\text{QFT}^\\dagger_N \\left| \\psi \\right\\rangle = \\frac{1}{\\sqrt{N}} \\sum_{j=0}^{N-1} \\sum_{k=0}^{N-1} e^{-2\\pi i \\frac{jk}{N}} \\left| k \\right\\rangle \\left\\langle j \\right| \\psi \\rangle\n",
    "$$\n",
    "\n",
    "The function qft applies QFT on the circuit that is passed as a parameter\n",
    "\n",
    "and qft_dagger is the inverse QFT which converts the values in the transformed Fourier basis back to the normal Basis"
   ]
  },
  {
   "cell_type": "code",
   "execution_count": 17,
   "metadata": {},
   "outputs": [],
   "source": [
    "##This code block remains as is, this code will be provided for using and is not something the participants have to write themselves\n",
    "def qft(n):\n",
    "    \"\"\"Creates an n-qubit QFT circuit\"\"\"\n",
    "    circuit = QuantumCircuit(n)\n",
    "    def swap_registers(circuit, n):\n",
    "        for qubit in range(n//2):\n",
    "            circuit.swap(qubit, n-qubit-1)\n",
    "        return circuit\n",
    "    def qft_rotations(circuit, n):\n",
    "        \"\"\"Performs qft on the first n qubits in circuit (without swaps)\"\"\"\n",
    "        if n == 0:\n",
    "            return circuit\n",
    "        n -= 1\n",
    "        circuit.h(n)\n",
    "        for qubit in range(n):\n",
    "            circuit.cp(np.pi/2**(n-qubit), qubit, n)\n",
    "        qft_rotations(circuit, n)\n",
    "    \n",
    "    qft_rotations(circuit, n)\n",
    "    swap_registers(circuit, n)\n",
    "    return circuit\n",
    "\n",
    "#Inverse Quantum Fourier Transform\n",
    "def qft_dagger(qc, n):\n",
    "    \"\"\"n-qubit QFTdagger the first n qubits in circ\"\"\"\n",
    "    # Don't forget the Swaps!\n",
    "    for qubit in range(n//2):\n",
    "        qc.swap(qubit, n-qubit-1)\n",
    "    for j in range(n):\n",
    "        for m in range(j):\n",
    "            qc.cp(-np.pi/float(2**(j-m)), m, j)\n",
    "        qc.h(j)"
   ]
  },
  {
   "cell_type": "markdown",
   "metadata": {},
   "source": [
    "The eigenvalues of a Unitary are of the form $$e^{{2\\pi ix}/n}$$ where x is a bit string. This bit string is of the form 0.abcd where a,b,c,d can be 0 or 1. Say we are given 0.11 then it's decimal representation would be (1/2 + 1/4 = 0.75)\n",
    "\n",
    "**Question 8**\\\n",
    "Write the function binary_to_decimal() which converts a binary string to a decimal number. The string will be of the form 0.abcd, where a,b,c,d can be 0 or 1."
   ]
  },
  {
   "cell_type": "code",
   "execution_count": 18,
   "metadata": {},
   "outputs": [],
   "source": [
    "def binary_to_decimal(str):\n",
    "    #write your code here\n",
    "    pass"
   ]
  },
  {
   "cell_type": "markdown",
   "metadata": {},
   "source": [
    "Quantum Phase Estimation :\n",
    "\n",
    "This is an algorithm used to extract the eigenvalue of Unitary matrices. It is one of the most important part of Shor's algorithm used in period finding as you will see shortly. \n",
    "In this Algorithm we applied Controlled Unitaries [like controlled CNOT gates] however, when we break back into individual states from the tensor product we see that the Control qubit is the one affected and not the target qubit. This is rather unintuitive and is called Phase kickback.\n",
    "$$ \\left( \\frac{1}{\\sqrt{2}} \\left( \\left| 0 \\right\\rangle + \\left| 1 \\right\\rangle \\right) \\right) \\otimes Z \\left| \\psi \\right\\rangle = \\left( \\frac{1}{\\sqrt{2}} \\left( \\left| 0 \\right\\rangle - \\left| 1 \\right\\rangle \\right) \\right) \\otimes \\left| \\psi \\right\\rangle\n",
    "$$\n",
    "\n",
    "Now say that out unitary has eigen value 0.abcd where a,b,c,d can be 0 or 1<br>\n",
    "$$\n",
    "U^1|\\psi\\rangle = e^{2\\pi i0.abcd} |\\psi\\rangle \\\\\n",
    "U^2|\\psi\\rangle = e^{2\\pi ia.bcd} |\\psi\\rangle \\\\\n",
    "U^3|\\psi\\rangle = e^{2\\pi i3(0.abcd)} |\\psi\\rangle \\\\\n",
    "U^4|\\psi\\rangle = e^{2\\pi iab.cd} |\\psi\\rangle \\\\\n",
    "$$\n",
    "\n",
    "Upon applying the unitaries in a Geometric progression of 2 multiple times on each qubit we get a state of the sorts<br>\n",
    "$$|\\psi\\rangle = (\\frac{1}{\\sqrt{N}} \\sum_{j=0}^{N-1} \\sum_{k=0}^{N-1} e^{2\\pi i \\frac{jk}{N}} \\left| k \\right\\rangle \\left\\langle j \\right|) \\otimes |1\\rangle\n",
    "$$\n",
    "**Question 9**\\\n",
    "Now using the above information, you need to implement a n qubit Quantum Phase Estimation Algorithm for controlled phase gate which gives a relative phase of \n",
    "$$ e^{{2\\pi i} /7}\n",
    "$$\n",
    "The layout should be as follows :\n",
    "1. The first 1 to x [x < n] are the control for unitary operations\n",
    "2. After the QPE circuit is made, you measure the i'th qubit on the i'th classical bit using the measure function of a QuantumCircuit in Qiskit\n"
   ]
  },
  {
   "cell_type": "code",
   "execution_count": 19,
   "metadata": {},
   "outputs": [],
   "source": [
    "def qpe_circuit(n):\n",
    "    #write your code here\n",
    "    pass\n",
    "\n",
    "#should be the same circuit+"
   ]
  },
  {
   "cell_type": "markdown",
   "metadata": {},
   "source": [
    "Shor's algorithm, developed by Peter Shor in 1994, is a revolutionary quantum algorithm aimed at efficiently factoring large composite numbers into their prime factors. This task is highly resource-intensive for classical computers and underlies many encryption methods. Leveraging the parallelism inherent in quantum computers, Shor's algorithm utilizes operations like the Quantum Fourier Transform to rapidly factorize numbers. By checking the greatest common divisor of randomly selected numbers and determining the period of a modular function using quantum techniques, the algorithm can deduce the prime factors. Its successful factorization of numbers with exponential speedup over classical methods underscored the potential of quantum computers and raised significant interest in quantum computing's impact on cryptography and security.\n",
    "\n",
    "**Question 10**\\\n",
    "Write the function classical_shor, such that it returns an array of two integers. These integers should be factors of N."
   ]
  },
  {
   "cell_type": "code",
   "execution_count": 20,
   "metadata": {},
   "outputs": [],
   "source": [
    "def classical_shor(N):\n",
    "    #write your code here\n",
    "    pass\n"
   ]
  },
  {
   "cell_type": "markdown",
   "metadata": {},
   "source": [
    "What is RSA ?\n",
    "Say we have to two people Alice and Bob trying to communicate over a compromised channel. Now here is how things go down.\n",
    "1. Bob generates three values. <br>\n",
    "    a. He picks two prime numbers p and q. Now he defined N = p x q. and M = (p - 1) x (q - 1) <br>\n",
    "    b. He then picks e such that gcd(e,M) = 1\n",
    "    c. he then calculates d such that\n",
    "    $$\n",
    "    d.e \\equiv 1(modM)\n",
    "    $$\n",
    "    d. The above basically means that these are inverses. For example define\n",
    "    $$\n",
    "    N = 55 \\\\\\\n",
    "    \\theta = 40\\\\\\\n",
    "    e = 3 \\\\\\\n",
    "    d = 27 \\\\\\\n",
    "    $$\n",
    "2. Now Bob has N,e and d. He sends e and N to alice which can be used by her to encode her message and send back to Bob\n",
    "3. Say alice wants to encode 4. Then \n",
    "$$\n",
    "4^3 (mod55) = 9\n",
    "$$\n",
    "Alice sends back 9\n",
    "4. Since only he knows the value of d no one else can decode it. Now bob wants to decode this message.\n",
    "$$\n",
    "9^{27}(mod55) = 4\n",
    "$$\n",
    "and thus Bob gets back the encrypted message. <br>\n",
    "**Question 11**\\\n",
    "Now Suppose you intercept the message and have N,e and the message is an encoded integer. decode function should thus return the decoded message integer"
   ]
  },
  {
   "cell_type": "code",
   "execution_count": 21,
   "metadata": {},
   "outputs": [],
   "source": [
    "def decode(N,e,i):\n",
    "    #write your code here\n",
    "    pass"
   ]
  },
  {
   "cell_type": "markdown",
   "metadata": {},
   "source": [
    "Congrats! You finished the Lab. But wait, where did we implement Shor's algorithm as a Quantum Algorithm? We didn't because just like the QFT, its too tough to understand in a 3 hour lab. But don't worry. We will see a practical application of Shor's algorithm using the classical function we made above. And if you find it useful enough, maybe you can learn about it on your own with the resources given below.\n",
    "\n",
    "Theory : Qiskit Textbook <br>\n",
    "Lab based practice : Xanadu Codebook <br>\n",
    "Github : https://github.com/Qiskit/qiskit-tutorials <br>"
   ]
  }
 ],
 "metadata": {
  "kernelspec": {
   "display_name": "Python 3",
   "language": "python",
   "name": "python3"
  },
  "language_info": {
   "codemirror_mode": {
    "name": "ipython",
    "version": 3
   },
   "file_extension": ".py",
   "mimetype": "text/x-python",
   "name": "python",
   "nbconvert_exporter": "python",
   "pygments_lexer": "ipython3",
   "version": "3.10.12"
  },
  "orig_nbformat": 4
 },
 "nbformat": 4,
 "nbformat_minor": 2
}
